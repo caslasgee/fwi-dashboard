{
 "cells": [
  {
   "cell_type": "markdown",
   "metadata": {
    "id": "fMeQ0ejR7Zy6"
   },
   "source": [
    "### **Import the necessary libraries**"
   ]
  },
  {
   "cell_type": "code",
   "execution_count": 2,
   "metadata": {},
   "outputs": [],
   "source": [
    "import dash\n",
    "from dash import dcc, html, dash_table\n",
    "import plotly.express as px\n",
    "import pandas as pd\n",
    "import folium\n",
    "import numpy as np\n",
    "import requests\n",
    "import math\n",
    "from dash.dependencies import Input, Output"
   ]
  },
  {
   "cell_type": "code",
   "execution_count": 3,
   "metadata": {},
   "outputs": [],
   "source": [
    "# Load Camp Coordinates & Area (AOR.xlsx)\n",
    "aor_data = pd.read_excel(\"AOR.xlsx\")\n",
    "\n",
    "# Load Fire Susceptibility Data (Fire Susceptibility Data Block.csv)\n",
    "fire_data = pd.read_csv(\"Fire Susceptability Data Block.csv\")\n"
   ]
  },
  {
   "cell_type": "code",
   "execution_count": 4,
   "metadata": {},
   "outputs": [],
   "source": [
    "# Standardize column names for merging\n",
    "aor_data.rename(columns={'New_Camp_Name': 'CampName'}, inplace=True)"
   ]
  },
  {
   "cell_type": "code",
   "execution_count": 5,
   "metadata": {},
   "outputs": [],
   "source": [
    "# Merge datasets on 'CampName'\n",
    "merged_data = pd.merge(fire_data, aor_data, on='CampName', how='left')"
   ]
  },
  {
   "cell_type": "code",
   "execution_count": 6,
   "metadata": {},
   "outputs": [],
   "source": [
    "# Compute Fire Susceptibility Index (FSI)\n",
    "merged_data['FSI_Calculated'] = (\n",
    "    merged_data['Environment'] + merged_data['Fuel'] +\n",
    "    merged_data['Behaviour'] + merged_data['Response']\n",
    ") / 4"
   ]
  },
  {
   "cell_type": "code",
   "execution_count": 8,
   "metadata": {},
   "outputs": [
    {
     "name": "stdout",
     "output_type": "stream",
     "text": [
      "   CampName Camp_Code CampSSID BlockName    Block Blocklet    Block_SSID  \\\n",
      "0   Camp 8E      C08E  CXB-210    C08E_A  Block A        A  CXB-210_A054   \n",
      "1   Camp 8E      C08E  CXB-210    C08E_B  Block B        B  CXB-210_B055   \n",
      "2   Camp 8E      C08E  CXB-210    C08E_C  Block C        C  CXB-210_C056   \n",
      "3   Camp 8E      C08E  CXB-210    C08E_D  Block D        D  CXB-210_D057   \n",
      "4   Camp 8E      C08E  CXB-210    C08E_E  Block E        E  CXB-210_E058   \n",
      "..      ...       ...      ...       ...      ...      ...           ...   \n",
      "82  Camp 24       C24  CXB-233     C24_E  Block E        E  CXB-233_E143   \n",
      "83  Camp 24       C24  CXB-233     C24_F  Block F        F  CXB-233_F144   \n",
      "84  Camp 24       C24  CXB-233     C24_G  Block G        G  CXB-233_G145   \n",
      "85  Camp 25       C25  CXB-017     C25_A  Block A        A  CXB-017_A146   \n",
      "86  Camp 25       C25  CXB-017     C25_B  Block B        B  CXB-017_B147   \n",
      "\n",
      "    Environment       Fuel  Behaviour  ...  Upazila         Union   Latitude  \\\n",
      "0     37.500000  54.166668    46.8750  ...    Ukhia  Palong Khali  21.196637   \n",
      "1     56.250000  58.333336    46.8750  ...    Ukhia  Palong Khali  21.196637   \n",
      "2     62.500000  58.333336    56.2500  ...    Ukhia  Palong Khali  21.196637   \n",
      "3     62.500000  58.333336    56.2500  ...    Ukhia  Palong Khali  21.196637   \n",
      "4     62.500000  50.000000    46.8750  ...    Ukhia  Palong Khali  21.196637   \n",
      "..          ...        ...        ...  ...      ...           ...        ...   \n",
      "82    37.357838  50.000000    54.6875  ...   Teknaf        Nhilla  20.974160   \n",
      "83    55.709016  16.666668    54.6875  ...   Teknaf        Nhilla  20.974160   \n",
      "84     0.000000   0.000000     0.0000  ...   Teknaf        Nhilla  20.974160   \n",
      "85   102.358204  62.500000    57.8125  ...   Teknaf        Nhilla  20.979310   \n",
      "86    64.027660  45.833336    57.8125  ...   Teknaf        Nhilla  20.979310   \n",
      "\n",
      "    Longitude      Area_sqm  AOR SMS_Support Camp_Region  \\\n",
      "0   92.163388  9.576049e+05  IOM         DRC      Ukhiya   \n",
      "1   92.163388  9.576049e+05  IOM         DRC      Ukhiya   \n",
      "2   92.163388  9.576049e+05  IOM         DRC      Ukhiya   \n",
      "3   92.163388  9.576049e+05  IOM         DRC      Ukhiya   \n",
      "4   92.163388  9.576049e+05  IOM         DRC      Ukhiya   \n",
      "..        ...           ...  ...         ...         ...   \n",
      "82  92.244029  1.182259e+06  IOM         IOM      Teknaf   \n",
      "83  92.244029  1.182259e+06  IOM         IOM      Teknaf   \n",
      "84  92.244029  1.182259e+06  IOM         IOM      Teknaf   \n",
      "85  92.245619  1.130867e+06  IOM         IOM      Teknaf   \n",
      "86  92.245619  1.130867e+06  IOM         IOM      Teknaf   \n",
      "\n",
      "                                                 Link  FSI_Calculated  \n",
      "0   https://www.humanitarianresponse.info/sites/ww...       38.262649  \n",
      "1   https://www.humanitarianresponse.info/sites/ww...       45.944941  \n",
      "2   https://www.humanitarianresponse.info/sites/ww...       49.069941  \n",
      "3   https://www.humanitarianresponse.info/sites/ww...       49.069941  \n",
      "4   https://www.humanitarianresponse.info/sites/ww...       44.642857  \n",
      "..                                                ...             ...  \n",
      "82  https://www.humanitarianresponse.info/sites/ww...       50.448091  \n",
      "83  https://www.humanitarianresponse.info/sites/ww...       46.702552  \n",
      "84  https://www.humanitarianresponse.info/sites/ww...        0.000000  \n",
      "85  https://www.humanitarianresponse.info/sites/ww...       69.265147  \n",
      "86  https://www.humanitarianresponse.info/sites/ww...       55.515845  \n",
      "\n",
      "[87 rows x 26 columns]\n"
     ]
    }
   ],
   "source": [
    "print(merged_data)"
   ]
  },
  {
   "cell_type": "code",
   "execution_count": null,
   "metadata": {},
   "outputs": [],
   "source": [
    "# Remove rows with missing Latitude/Longitude\n",
    "cleaned_data = merged_data.dropna(subset=['Latitude', 'Longitude'])\n",
    "\n",
    "# Fire Risk Classification\n",
    "def classify_fsi(fsi):\n",
    "    if fsi >= 67:\n",
    "        return \"Urgent\"\n",
    "    elif fsi >= 33:\n",
    "        return \"High\"\n",
    "    else:\n",
    "        return \"Moderate\"\n",
    "\n",
    "cleaned_data[\"FSI_Class\"] = cleaned_data[\"FSI_Calculated\"].apply(classify_fsi)"
   ]
  },
  {
   "cell_type": "markdown",
   "metadata": {},
   "source": [
    "Step 2"
   ]
  },
  {
   "cell_type": "code",
   "execution_count": 1,
   "metadata": {},
   "outputs": [],
   "source": [
    "def get_fwi_standard(lat, lon):\n",
    "    url = f\"https://wttr.in/{lat},{lon}?format=j1\"\n",
    "    try:\n",
    "        response = requests.get(url, timeout=10)\n",
    "        response.raise_for_status()\n",
    "        weather = response.json()\n",
    "        temp = float(weather['current_condition'][0]['temp_C'])\n",
    "        rh = float(weather['current_condition'][0]['humidity'])\n",
    "        wind = float(weather['current_condition'][0]['windspeedKmph'])\n",
    "        rain = float(weather['current_condition'][0].get('precipMM', 0))\n",
    "        return round(calc_fwi_standard(temp, rh, wind, rain), 1)\n",
    "    except Exception as e:\n",
    "        print(f\"Error fetching standard FWI: {e}\")\n",
    "        return 0"
   ]
  },
  {
   "cell_type": "code",
   "execution_count": 9,
   "metadata": {},
   "outputs": [
    {
     "name": "stdout",
     "output_type": "stream",
     "text": [
      "<function get_fwi_standard at 0x0000021A4778AC10>\n"
     ]
    }
   ],
   "source": [
    "print(get_fwi_standard)"
   ]
  },
  {
   "cell_type": "code",
   "execution_count": null,
   "metadata": {},
   "outputs": [],
   "source": []
  },
  {
   "cell_type": "code",
   "execution_count": null,
   "metadata": {},
   "outputs": [],
   "source": [
    "# ---------------- STEP 2: FETCH REAL-TIME FIRE WEATHER INDEX (FWI) ----------------\n",
    "API_KEY = \"YOUR_OPENWEATHER_API_KEY\"\n",
    "\n",
    "def get_fwi(lat, lon):\n",
    "    \"\"\"Fetch real-time weather & compute Fire Weather Index (FWI).\"\"\"\n",
    "    url = f\"https://api.openweathermap.org/data/2.5/weather?lat={lat}&lon={lon}&appid={API_KEY}&units=metric\"\n",
    "    try:\n",
    "        response = requests.get(url, timeout=10)\n",
    "        response.raise_for_status()\n",
    "        weather = response.json()\n",
    "        \n",
    "        temp = weather['main']['temp']\n",
    "        humidity = weather['main']['humidity']\n",
    "        wind = weather['wind']['speed']\n",
    "        precipitation = weather.get('rain', {}).get('1h', 0)\n",
    "\n",
    "        wind = max(wind, 0.1)\n",
    "        precipitation = max(precipitation, 0.1)\n",
    "        FFMC = 59.5 * math.exp(-0.1386 * humidity) + 5.3 * math.sqrt(wind) - 0.0365 * precipitation\n",
    "        DMC = 1.5 * (temp - humidity) + 10 * math.log(precipitation)\n",
    "        FWI = round(0.1 * FFMC + 0.5 * DMC, 2)\n",
    "\n",
    "        return max(FWI, 0)\n",
    "    except:\n",
    "        return None\n",
    "\n",
    "cleaned_data[\"FWI\"] = cleaned_data.apply(lambda row: get_fwi(row[\"Latitude\"], row[\"Longitude\"]), axis=1)"
   ]
  },
  {
   "cell_type": "code",
   "execution_count": null,
   "metadata": {},
   "outputs": [],
   "source": [
    "# ---------------- STEP 3: DASHBOARD LAYOUT ----------------\n",
    "app = dash.Dash(__name__)\n",
    "\n",
    "app.layout = html.Div([\n",
    "    html.H1(\"Fire Risk Analysis Dashboard\", style={\"text-align\": \"center\"}),\n",
    "\n",
    "    # Site Details & Fire Susceptibility Index\n",
    "    html.Div([\n",
    "        html.Div([\n",
    "            html.H4(\"Site Details\"),\n",
    "            html.P(\"Site Name: Camp 8W, Cox’s Bazar\"),\n",
    "            html.P(\"Assessment Date: 2024-09-25\"),\n",
    "            html.P(\"Site Population: 33,515\"),\n",
    "        ], className=\"four columns\"),\n",
    "\n",
    "        html.Div([\n",
    "            html.H4(\"Site Susceptibility Index\"),\n",
    "            html.H2(\"52 - High\", style={\"color\": \"orange\"}),\n",
    "        ], className=\"four columns\", style={\"background-color\": \"#F4A261\", \"padding\": \"20px\"}),\n",
    "\n",
    "        html.Div([\n",
    "            html.H4(\"Fire Weather Index\"),\n",
    "            html.H2(\"0 ( - )\", style={\"color\": \"green\"}),\n",
    "        ], className=\"four columns\", style={\"background-color\": \"#A7C957\", \"padding\": \"20px\"}),\n",
    "\n",
    "    ], className=\"row\"),\n",
    "\n",
    "    # Fire Susceptibility Dimensions\n",
    "    html.Div([\n",
    "        html.H4(\"Susceptibility Dimensions\"),\n",
    "        dcc.Graph(\n",
    "            figure=px.bar(\n",
    "                x=[\"Response\", \"Behavior\", \"Fuel\", \"Environment\"],\n",
    "                y=[47, 51, 41, 68],\n",
    "                labels={\"x\": \"Dimensions\", \"y\": \"Score\"},\n",
    "                title=\"Fire Risk Factors\"\n",
    "            )\n",
    "        ),\n",
    "    ], className=\"six columns\"),\n",
    "\n",
    "    # Fire Risk Trends - FWI Time Series (Placeholder)\n",
    "    html.Div([\n",
    "        html.H4(\"Yearly Mean FWI\"),\n",
    "        dcc.Graph(\n",
    "            figure=px.line(\n",
    "                x=pd.date_range(start=\"2024-01-01\", periods=12, freq=\"M\"),\n",
    "                y=np.random.randint(10, 35, size=12),\n",
    "                labels={\"x\": \"Month\", \"y\": \"FWI\"},\n",
    "                title=\"Yearly Mean FWI\"\n",
    "            )\n",
    "        ),\n",
    "    ], className=\"six columns\"),\n",
    "\n",
    "    # Fire Risk Map\n",
    "    html.Div([\n",
    "        html.H4(\"Fire Risk Map\"),\n",
    "        dcc.Graph(\n",
    "            figure=px.scatter_mapbox(\n",
    "                cleaned_data,\n",
    "                lat=\"Latitude\", lon=\"Longitude\",\n",
    "                color=\"FSI_Calculated\",\n",
    "                size=\"FSI_Calculated\",\n",
    "                hover_name=\"CampName\",\n",
    "                mapbox_style=\"carto-positron\",\n",
    "                zoom=10,\n",
    "                title=\"Camp Fire Susceptibility\"\n",
    "            )\n",
    "        ),\n",
    "    ], className=\"twelve columns\"),\n",
    "\n",
    "    # Fire Susceptibility Indicator Scores\n",
    "    html.Div([\n",
    "        html.H4(\"Fire Susceptibility Indicator Scores\"),\n",
    "        dash_table.DataTable(\n",
    "            columns=[{\"name\": col, \"id\": col} for col in [\"CampName\", \"FSI_Calculated\", \"FSI_Class\"]],\n",
    "            data=cleaned_data.to_dict('records'),\n",
    "            style_table={'overflowX': 'auto'}\n",
    "        ),\n",
    "    ], className=\"six columns\"),\n",
    "\n",
    "], className=\"container\")\n",
    "\n",
    "# ---------------- STEP 4: RUN DASH APP ----------------\n",
    "if __name__ == '__main__':\n",
    "    app.run_server(debug=True)"
   ]
  }
 ],
 "metadata": {
  "colab": {
   "provenance": [],
   "toc_visible": true
  },
  "kernelspec": {
   "display_name": "base",
   "language": "python",
   "name": "python3"
  },
  "language_info": {
   "codemirror_mode": {
    "name": "ipython",
    "version": 3
   },
   "file_extension": ".py",
   "mimetype": "text/x-python",
   "name": "python",
   "nbconvert_exporter": "python",
   "pygments_lexer": "ipython3",
   "version": "3.8.8"
  }
 },
 "nbformat": 4,
 "nbformat_minor": 1
}
